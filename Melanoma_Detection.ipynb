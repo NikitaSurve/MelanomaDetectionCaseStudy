{
  "nbformat": 4,
  "nbformat_minor": 0,
  "metadata": {
    "colab": {
      "provenance": []
    },
    "kernelspec": {
      "name": "python3",
      "display_name": "Python 3"
    },
    "language_info": {
      "name": "python"
    },
    "accelerator": "GPU",
    "gpuClass": "standard"
  },
  "cells": [
    {
      "cell_type": "markdown",
      "source": [
        "Problem statement: To build a CNN based model which can accurately detect melanoma. Melanoma is a type of cancer that can be deadly if not detected early. It accounts for 75% of skin cancer deaths. A solution which can evaluate images and alert the dermatologists about the presence of melanoma has the potential to reduce a lot of manual effort needed in diagnosis."
      ],
      "metadata": {
        "id": "fxvqkljWReuz"
      }
    },
    {
      "cell_type": "markdown",
      "source": [
        "## Importing all the important libraries"
      ],
      "metadata": {
        "id": "OSWHNAdNRup-"
      }
    },
    {
      "cell_type": "code",
      "execution_count": 1,
      "metadata": {
        "id": "vHpYs0WQRVTi"
      },
      "outputs": [],
      "source": [
        "import pathlib\n",
        "import tensorflow as tf\n",
        "import matplotlib.pyplot as plt\n",
        "import numpy as np\n",
        "import pandas as pd\n",
        "import os\n",
        "import PIL\n",
        "from tensorflow import keras\n",
        "from tensorflow.keras.layers import Dense, Dropout, Activation, Flatten, BatchNormalization, Conv2D, MaxPooling2D\n",
        "from tensorflow.keras import layers\n",
        "from tensorflow.keras.models import Sequential\n",
        "from keras.preprocessing.image import ImageDataGenerator\n",
        "from tensorflow.keras.applications.imagenet_utils import preprocess_input\n",
        "from google.colab import drive\n"
      ]
    },
    {
      "cell_type": "code",
      "source": [
        "drive.mount('/content/gdrive')"
      ],
      "metadata": {
        "colab": {
          "base_uri": "https://localhost:8080/"
        },
        "id": "OvKZ3FX8Y4cS",
        "outputId": "52cf91ff-0157-4a83-934e-a6a03c9fa9c4"
      },
      "execution_count": 2,
      "outputs": [
        {
          "output_type": "stream",
          "name": "stdout",
          "text": [
            "Mounted at /content/gdrive\n"
          ]
        }
      ]
    },
    {
      "cell_type": "code",
      "source": [
        "# Defining the path for train and test images\n",
        "## Todo: Update the paths of the train and test dataset\n",
        "data_dir_train = pathlib.Path(\"/content/gdrive/MyDrive/UpGrad/Melanoma Case Study/Skin cancer ISIC The International Skin Imaging Collaboration/Train\")\n",
        "data_dir_test = pathlib.Path(\"/content/gdrive/MyDrive/UpGrad/Melanoma Case Study/Skin cancer ISIC The International Skin Imaging Collaboration/Test\")"
      ],
      "metadata": {
        "id": "vvLHgKbBY4iD"
      },
      "execution_count": 3,
      "outputs": []
    },
    {
      "cell_type": "code",
      "source": [
        "image_train = list(data_dir_train.glob('*/*.jpg'))\n",
        "image_test = list(data_dir_test.glob('*/*.jpg'))\n",
        "\n",
        "     "
      ],
      "metadata": {
        "id": "WE3tackfcloY"
      },
      "execution_count": 4,
      "outputs": []
    },
    {
      "cell_type": "code",
      "source": [
        "image_count_train = len(list(data_dir_train.glob('*/*.jpg')))\n",
        "print(image_count_train)\n",
        "image_count_test = len(list(data_dir_test.glob('*/*.jpg')))\n",
        "print(image_count_test)\n",
        "     "
      ],
      "metadata": {
        "colab": {
          "base_uri": "https://localhost:8080/"
        },
        "id": "PIgNJo0ZZ2lD",
        "outputId": "6b4cc903-439b-4e3e-8c74-5eb999189732"
      },
      "execution_count": 5,
      "outputs": [
        {
          "output_type": "stream",
          "name": "stdout",
          "text": [
            "2239\n",
            "118\n"
          ]
        }
      ]
    },
    {
      "cell_type": "markdown",
      "source": [
        "### Create a dataset"
      ],
      "metadata": {
        "id": "yvvShC9XcEvt"
      }
    },
    {
      "cell_type": "markdown",
      "source": [
        "Define some parameters for the loader:"
      ],
      "metadata": {
        "id": "SI6xuxSGcGvH"
      }
    },
    {
      "cell_type": "code",
      "source": [
        "batch_size = 32\n",
        "img_height = 180\n",
        "img_width = 180"
      ],
      "metadata": {
        "id": "ZOpPlOrQcKlj"
      },
      "execution_count": 6,
      "outputs": []
    },
    {
      "cell_type": "markdown",
      "source": [
        "Use 80% of the images for training, and 20% for validation."
      ],
      "metadata": {
        "id": "LvfdNXugcVOR"
      }
    },
    {
      "cell_type": "code",
      "source": [
        "## Write your train dataset here\n",
        "## Note use seed=123 while creating your dataset using tf.keras.preprocessing.image_dataset_from_directory\n",
        "## Note, make sure your resize your images to the size img_height*img_width, while writting the dataset\n",
        "train_ds = tf.keras.utils.image_dataset_from_directory(\n",
        "    data_dir_train,\n",
        "    labels='inferred',\n",
        "    label_mode='categorical',\n",
        "    class_names=None,\n",
        "    color_mode='rgb',\n",
        "    batch_size=32,\n",
        "    image_size=(180, 180),\n",
        "    shuffle=True,\n",
        "    seed=123,\n",
        "    validation_split=0.20,\n",
        "    subset=\"training\",\n",
        "    interpolation='bilinear',\n",
        "    follow_links=False,\n",
        "    crop_to_aspect_ratio=False\n",
        "    \n",
        ")"
      ],
      "metadata": {
        "colab": {
          "base_uri": "https://localhost:8080/"
        },
        "id": "qYmDqhCscXBF",
        "outputId": "44813d7f-ca9b-4858-f4b1-8894a59b87e9"
      },
      "execution_count": 7,
      "outputs": [
        {
          "output_type": "stream",
          "name": "stdout",
          "text": [
            "Found 2239 files belonging to 9 classes.\n",
            "Using 1792 files for training.\n"
          ]
        }
      ]
    },
    {
      "cell_type": "code",
      "source": [
        "## Write your validation dataset here\n",
        "## Note use seed=123 while creating your dataset using tf.keras.preprocessing.image_dataset_from_directory\n",
        "## Note, make sure your resize your images to the size img_height*img_width, while writting the dataset\n",
        "val_ds =  tf.keras.utils.image_dataset_from_directory(\n",
        "    data_dir_train,\n",
        "    labels='inferred',\n",
        "    label_mode='categorical',\n",
        "    class_names=None,\n",
        "    color_mode='rgb',\n",
        "    batch_size=32,\n",
        "    image_size=(180, 180),\n",
        "    shuffle=True,\n",
        "    seed=123,\n",
        "    validation_split=0.20,\n",
        "    subset=\"validation\",\n",
        "    interpolation='bilinear',\n",
        "    follow_links=False,\n",
        "    crop_to_aspect_ratio=False\n",
        "    \n",
        ")"
      ],
      "metadata": {
        "colab": {
          "base_uri": "https://localhost:8080/"
        },
        "id": "i_QuMpSJeGD9",
        "outputId": "e3d9b5d1-b260-404b-f50f-faad2bc6cdb8"
      },
      "execution_count": 8,
      "outputs": [
        {
          "output_type": "stream",
          "name": "stdout",
          "text": [
            "Found 2239 files belonging to 9 classes.\n",
            "Using 447 files for validation.\n"
          ]
        }
      ]
    },
    {
      "cell_type": "code",
      "source": [
        "## Write your validation dataset here\n",
        "## Note use seed=123 while creating your dataset using tf.keras.preprocessing.image_dataset_from_directory\n",
        "## Note, make sure your resize your images to the size img_height*img_width, while writting the dataset\n",
        "test_ds =  tf.keras.utils.image_dataset_from_directory(\n",
        "    data_dir_test,\n",
        "    labels='inferred',\n",
        "    label_mode='categorical',\n",
        "    class_names=None,\n",
        "    color_mode='rgb',\n",
        "    batch_size=32,\n",
        "    image_size=(180, 180),\n",
        "    shuffle=True,\n",
        "    seed=123,\n",
        "    interpolation='bilinear',\n",
        "    follow_links=False,\n",
        "    crop_to_aspect_ratio=False\n",
        "    \n",
        ")"
      ],
      "metadata": {
        "colab": {
          "base_uri": "https://localhost:8080/"
        },
        "id": "oOFkuAjGHES_",
        "outputId": "47b8230c-11bd-4d0e-ef03-5fee5c13336e"
      },
      "execution_count": 9,
      "outputs": [
        {
          "output_type": "stream",
          "name": "stdout",
          "text": [
            "Found 118 files belonging to 9 classes.\n"
          ]
        }
      ]
    },
    {
      "cell_type": "code",
      "source": [
        "# List out all the classes of skin cancer and store them in a list. \n",
        "# You can find the class names in the class_names attribute on these datasets. \n",
        "# These correspond to the directory names in alphabetical order.\n",
        "class_names = train_ds.class_names\n",
        "print(class_names)"
      ],
      "metadata": {
        "colab": {
          "base_uri": "https://localhost:8080/"
        },
        "id": "NhbQaqFQeWw1",
        "outputId": "9155b6fa-be75-4eff-f74c-6a9589b93fa5"
      },
      "execution_count": 10,
      "outputs": [
        {
          "output_type": "stream",
          "name": "stdout",
          "text": [
            "['actinic keratosis', 'basal cell carcinoma', 'dermatofibroma', 'melanoma', 'nevus', 'pigmented benign keratosis', 'seborrheic keratosis', 'squamous cell carcinoma', 'vascular lesion']\n"
          ]
        }
      ]
    },
    {
      "cell_type": "markdown",
      "source": [
        "## Visualize the data"
      ],
      "metadata": {
        "id": "CaQ72U0pecfg"
      }
    },
    {
      "cell_type": "markdown",
      "source": [
        "### create a code to visualize one instance of all the nine classes present in the dataset"
      ],
      "metadata": {
        "id": "qk1Mm3Xzed3O"
      }
    },
    {
      "cell_type": "code",
      "source": [
        "# code reference from https://stackoverflow.com/questions/2632205/how-to-count-the-number-of-files-in-a-directory-using-python and other resources.\n",
        "ls= []\n",
        "for path in pathlib.Path(data_dir_train).iterdir():\n",
        "    if path.is_dir():\n",
        "        ls.append(len([name for name in os.listdir(path) if os.path.isfile(os.path.join(path, name))]))\n",
        "    \n",
        "\n",
        "classes_name = [name for name in os.listdir(data_dir_train) if os.path.isdir(os.path.join(data_dir_train, name))]\n",
        "    \n",
        "    #return dataframe with image count and class.\n",
        "    \n",
        "\n",
        "df = pd.DataFrame(list(zip(classes_name,ls)),columns =['Class', 'No. of Image'])\n",
        "df"
      ],
      "metadata": {
        "colab": {
          "base_uri": "https://localhost:8080/",
          "height": 332
        },
        "id": "-t-GWUtnobSt",
        "outputId": "c10e44e8-57a4-4609-967a-08b5b4e53af0"
      },
      "execution_count": 11,
      "outputs": [
        {
          "output_type": "execute_result",
          "data": {
            "text/plain": [
              "                        Class  No. of Image\n",
              "0        basal cell carcinoma           376\n",
              "1              dermatofibroma            95\n",
              "2                    melanoma           438\n",
              "3           actinic keratosis           114\n",
              "4                       nevus           357\n",
              "5  pigmented benign keratosis           462\n",
              "6        seborrheic keratosis            77\n",
              "7     squamous cell carcinoma           181\n",
              "8             vascular lesion           139"
            ],
            "text/html": [
              "\n",
              "  <div id=\"df-74dd7223-5bfd-4d6e-b360-4a4d75536c34\">\n",
              "    <div class=\"colab-df-container\">\n",
              "      <div>\n",
              "<style scoped>\n",
              "    .dataframe tbody tr th:only-of-type {\n",
              "        vertical-align: middle;\n",
              "    }\n",
              "\n",
              "    .dataframe tbody tr th {\n",
              "        vertical-align: top;\n",
              "    }\n",
              "\n",
              "    .dataframe thead th {\n",
              "        text-align: right;\n",
              "    }\n",
              "</style>\n",
              "<table border=\"1\" class=\"dataframe\">\n",
              "  <thead>\n",
              "    <tr style=\"text-align: right;\">\n",
              "      <th></th>\n",
              "      <th>Class</th>\n",
              "      <th>No. of Image</th>\n",
              "    </tr>\n",
              "  </thead>\n",
              "  <tbody>\n",
              "    <tr>\n",
              "      <th>0</th>\n",
              "      <td>basal cell carcinoma</td>\n",
              "      <td>376</td>\n",
              "    </tr>\n",
              "    <tr>\n",
              "      <th>1</th>\n",
              "      <td>dermatofibroma</td>\n",
              "      <td>95</td>\n",
              "    </tr>\n",
              "    <tr>\n",
              "      <th>2</th>\n",
              "      <td>melanoma</td>\n",
              "      <td>438</td>\n",
              "    </tr>\n",
              "    <tr>\n",
              "      <th>3</th>\n",
              "      <td>actinic keratosis</td>\n",
              "      <td>114</td>\n",
              "    </tr>\n",
              "    <tr>\n",
              "      <th>4</th>\n",
              "      <td>nevus</td>\n",
              "      <td>357</td>\n",
              "    </tr>\n",
              "    <tr>\n",
              "      <th>5</th>\n",
              "      <td>pigmented benign keratosis</td>\n",
              "      <td>462</td>\n",
              "    </tr>\n",
              "    <tr>\n",
              "      <th>6</th>\n",
              "      <td>seborrheic keratosis</td>\n",
              "      <td>77</td>\n",
              "    </tr>\n",
              "    <tr>\n",
              "      <th>7</th>\n",
              "      <td>squamous cell carcinoma</td>\n",
              "      <td>181</td>\n",
              "    </tr>\n",
              "    <tr>\n",
              "      <th>8</th>\n",
              "      <td>vascular lesion</td>\n",
              "      <td>139</td>\n",
              "    </tr>\n",
              "  </tbody>\n",
              "</table>\n",
              "</div>\n",
              "      <button class=\"colab-df-convert\" onclick=\"convertToInteractive('df-74dd7223-5bfd-4d6e-b360-4a4d75536c34')\"\n",
              "              title=\"Convert this dataframe to an interactive table.\"\n",
              "              style=\"display:none;\">\n",
              "        \n",
              "  <svg xmlns=\"http://www.w3.org/2000/svg\" height=\"24px\"viewBox=\"0 0 24 24\"\n",
              "       width=\"24px\">\n",
              "    <path d=\"M0 0h24v24H0V0z\" fill=\"none\"/>\n",
              "    <path d=\"M18.56 5.44l.94 2.06.94-2.06 2.06-.94-2.06-.94-.94-2.06-.94 2.06-2.06.94zm-11 1L8.5 8.5l.94-2.06 2.06-.94-2.06-.94L8.5 2.5l-.94 2.06-2.06.94zm10 10l.94 2.06.94-2.06 2.06-.94-2.06-.94-.94-2.06-.94 2.06-2.06.94z\"/><path d=\"M17.41 7.96l-1.37-1.37c-.4-.4-.92-.59-1.43-.59-.52 0-1.04.2-1.43.59L10.3 9.45l-7.72 7.72c-.78.78-.78 2.05 0 2.83L4 21.41c.39.39.9.59 1.41.59.51 0 1.02-.2 1.41-.59l7.78-7.78 2.81-2.81c.8-.78.8-2.07 0-2.86zM5.41 20L4 18.59l7.72-7.72 1.47 1.35L5.41 20z\"/>\n",
              "  </svg>\n",
              "      </button>\n",
              "      \n",
              "  <style>\n",
              "    .colab-df-container {\n",
              "      display:flex;\n",
              "      flex-wrap:wrap;\n",
              "      gap: 12px;\n",
              "    }\n",
              "\n",
              "    .colab-df-convert {\n",
              "      background-color: #E8F0FE;\n",
              "      border: none;\n",
              "      border-radius: 50%;\n",
              "      cursor: pointer;\n",
              "      display: none;\n",
              "      fill: #1967D2;\n",
              "      height: 32px;\n",
              "      padding: 0 0 0 0;\n",
              "      width: 32px;\n",
              "    }\n",
              "\n",
              "    .colab-df-convert:hover {\n",
              "      background-color: #E2EBFA;\n",
              "      box-shadow: 0px 1px 2px rgba(60, 64, 67, 0.3), 0px 1px 3px 1px rgba(60, 64, 67, 0.15);\n",
              "      fill: #174EA6;\n",
              "    }\n",
              "\n",
              "    [theme=dark] .colab-df-convert {\n",
              "      background-color: #3B4455;\n",
              "      fill: #D2E3FC;\n",
              "    }\n",
              "\n",
              "    [theme=dark] .colab-df-convert:hover {\n",
              "      background-color: #434B5C;\n",
              "      box-shadow: 0px 1px 3px 1px rgba(0, 0, 0, 0.15);\n",
              "      filter: drop-shadow(0px 1px 2px rgba(0, 0, 0, 0.3));\n",
              "      fill: #FFFFFF;\n",
              "    }\n",
              "  </style>\n",
              "\n",
              "      <script>\n",
              "        const buttonEl =\n",
              "          document.querySelector('#df-74dd7223-5bfd-4d6e-b360-4a4d75536c34 button.colab-df-convert');\n",
              "        buttonEl.style.display =\n",
              "          google.colab.kernel.accessAllowed ? 'block' : 'none';\n",
              "\n",
              "        async function convertToInteractive(key) {\n",
              "          const element = document.querySelector('#df-74dd7223-5bfd-4d6e-b360-4a4d75536c34');\n",
              "          const dataTable =\n",
              "            await google.colab.kernel.invokeFunction('convertToInteractive',\n",
              "                                                     [key], {});\n",
              "          if (!dataTable) return;\n",
              "\n",
              "          const docLinkHtml = 'Like what you see? Visit the ' +\n",
              "            '<a target=\"_blank\" href=https://colab.research.google.com/notebooks/data_table.ipynb>data table notebook</a>'\n",
              "            + ' to learn more about interactive tables.';\n",
              "          element.innerHTML = '';\n",
              "          dataTable['output_type'] = 'display_data';\n",
              "          await google.colab.output.renderOutput(dataTable, element);\n",
              "          const docLink = document.createElement('div');\n",
              "          docLink.innerHTML = docLinkHtml;\n",
              "          element.appendChild(docLink);\n",
              "        }\n",
              "      </script>\n",
              "    </div>\n",
              "  </div>\n",
              "  "
            ]
          },
          "metadata": {},
          "execution_count": 11
        }
      ]
    },
    {
      "cell_type": "code",
      "source": [
        "#Visualize the Number of image in each class.\n",
        "import seaborn as sns\n",
        "plt.figure(figsize=(10, 8))\n",
        "sns.barplot(x=\"No. of Image\", y=\"Class\", data=df, label=\"Class\")"
      ],
      "metadata": {
        "colab": {
          "base_uri": "https://localhost:8080/",
          "height": 514
        },
        "id": "RLkkNgAvejLU",
        "outputId": "247fc5f6-e3e1-4b3b-a973-c42579458dde"
      },
      "execution_count": 12,
      "outputs": [
        {
          "output_type": "execute_result",
          "data": {
            "text/plain": [
              "<matplotlib.axes._subplots.AxesSubplot at 0x7fdef60dfe80>"
            ]
          },
          "metadata": {},
          "execution_count": 12
        },
        {
          "output_type": "display_data",
          "data": {
            "text/plain": [
              "<Figure size 720x576 with 1 Axes>"
            ],
            "image/png": "[encoded data removed]"
          },
          "metadata": {
            "needs_background": "light"
          }
        }
      ]
    },
    {
      "cell_type": "code",
      "source": [
        "AUTOTUNE = tf.data.experimental.AUTOTUNE\n",
        "train_ds = train_ds.cache().shuffle(1000).prefetch(buffer_size=AUTOTUNE)\n",
        "val_ds = val_ds.cache().prefetch(buffer_size=AUTOTUNE)"
      ],
      "metadata": {
        "id": "IpdwH856qRHO"
      },
      "execution_count": 13,
      "outputs": []
    },
    {
      "cell_type": "markdown",
      "source": [
        "## Create the model"
      ],
      "metadata": {
        "id": "tQrI9WwKsC4L"
      }
    },
    {
      "cell_type": "code",
      "source": [
        "# model\n",
        "model = Sequential()\n",
        "model.add(layers.experimental.preprocessing.Rescaling(1./255,input_shape=(180,180,3)))\n",
        "# first conv layer\n",
        "model.add(Conv2D(32, kernel_size=(3, 3),\n",
        "                 activation='relu'))\n",
        "model.add(Activation('relu'))\n",
        "model.add(BatchNormalization())\n",
        "model.add(Conv2D(32, (3, 3)))\n",
        "model.add(Activation('relu'))\n",
        "model.add(BatchNormalization())\n",
        "model.add(MaxPooling2D(pool_size=(2, 2)))\n",
        "\n",
        "model.add(Conv2D(64, (3, 3), padding='same'))\n",
        "model.add(Activation('relu'))\n",
        "model.add(BatchNormalization())\n",
        "model.add(Conv2D(64, (3, 3)))\n",
        "model.add(Activation('relu'))\n",
        "model.add(BatchNormalization())\n",
        "model.add(MaxPooling2D(pool_size=(2, 2)))\n",
        "\n",
        "model.add(Flatten())\n",
        "model.add(Dense(512))\n",
        "model.add(Activation('relu'))\n",
        "model.add(Dropout(0.5))\n",
        "model.add(Dense(len(class_names)))\n",
        "model.add(Activation('softmax'))"
      ],
      "metadata": {
        "id": "BRg9XwtauMoS"
      },
      "execution_count": 14,
      "outputs": []
    },
    {
      "cell_type": "markdown",
      "source": [
        "## Compile the model"
      ],
      "metadata": {
        "id": "n3wAPh9GsD5W"
      }
    },
    {
      "cell_type": "markdown",
      "source": [
        "Choose an appropirate optimiser and loss function for model training"
      ],
      "metadata": {
        "id": "H0lXlg7HvS-z"
      }
    },
    {
      "cell_type": "code",
      "source": [
        "### Todo, choose an appropirate optimiser and loss function\n",
        "model.compile(optimizer= tf.keras.optimizers.Adadelta(),\n",
        "              loss= tf.keras.losses.categorical_crossentropy,\n",
        "              metrics=['accuracy'])"
      ],
      "metadata": {
        "id": "L2sZwZBsvU2H"
      },
      "execution_count": 15,
      "outputs": []
    },
    {
      "cell_type": "code",
      "source": [
        "# View the summary of all layers\n",
        "model.summary()"
      ],
      "metadata": {
        "colab": {
          "base_uri": "https://localhost:8080/"
        },
        "id": "gbdO2XvxwDXX",
        "outputId": "116d3273-199a-459d-bafe-ead5660cb555"
      },
      "execution_count": 16,
      "outputs": [
        {
          "output_type": "stream",
          "name": "stdout",
          "text": [
            "Model: \"sequential\"\n",
            "_________________________________________________________________\n",
            " Layer (type)                Output Shape              Param #   \n",
            "=================================================================\n",
            " rescaling (Rescaling)       (None, 180, 180, 3)       0         \n",
            "                                                                 \n",
            " conv2d (Conv2D)             (None, 178, 178, 32)      896       \n",
            "                                                                 \n",
            " activation (Activation)     (None, 178, 178, 32)      0         \n",
            "                                                                 \n",
            " batch_normalization (BatchN  (None, 178, 178, 32)     128       \n",
            " ormalization)                                                   \n",
            "                                                                 \n",
            " conv2d_1 (Conv2D)           (None, 176, 176, 32)      9248      \n",
            "                                                                 \n",
            " activation_1 (Activation)   (None, 176, 176, 32)      0         \n",
            "                                                                 \n",
            " batch_normalization_1 (Batc  (None, 176, 176, 32)     128       \n",
            " hNormalization)                                                 \n",
            "                                                                 \n",
            " max_pooling2d (MaxPooling2D  (None, 88, 88, 32)       0         \n",
            " )                                                               \n",
            "                                                                 \n",
            " conv2d_2 (Conv2D)           (None, 88, 88, 64)        18496     \n",
            "                                                                 \n",
            " activation_2 (Activation)   (None, 88, 88, 64)        0         \n",
            "                                                                 \n",
            " batch_normalization_2 (Batc  (None, 88, 88, 64)       256       \n",
            " hNormalization)                                                 \n",
            "                                                                 \n",
            " conv2d_3 (Conv2D)           (None, 86, 86, 64)        36928     \n",
            "                                                                 \n",
            " activation_3 (Activation)   (None, 86, 86, 64)        0         \n",
            "                                                                 \n",
            " batch_normalization_3 (Batc  (None, 86, 86, 64)       256       \n",
            " hNormalization)                                                 \n",
            "                                                                 \n",
            " max_pooling2d_1 (MaxPooling  (None, 43, 43, 64)       0         \n",
            " 2D)                                                             \n",
            "                                                                 \n",
            " flatten (Flatten)           (None, 118336)            0         \n",
            "                                                                 \n",
            " dense (Dense)               (None, 512)               60588544  \n",
            "                                                                 \n",
            " activation_4 (Activation)   (None, 512)               0         \n",
            "                                                                 \n",
            " dropout (Dropout)           (None, 512)               0         \n",
            "                                                                 \n",
            " dense_1 (Dense)             (None, 9)                 4617      \n",
            "                                                                 \n",
            " activation_5 (Activation)   (None, 9)                 0         \n",
            "                                                                 \n",
            "=================================================================\n",
            "Total params: 60,659,497\n",
            "Trainable params: 60,659,113\n",
            "Non-trainable params: 384\n",
            "_________________________________________________________________\n"
          ]
        }
      ]
    },
    {
      "cell_type": "markdown",
      "source": [
        "## Train the model"
      ],
      "metadata": {
        "id": "Xki7qc44wF1B"
      }
    },
    {
      "cell_type": "code",
      "source": [
        "epochs = 20\n",
        "history = model.fit(\n",
        "  train_ds,\n",
        "  validation_data=val_ds,\n",
        "  epochs=epochs\n",
        ")"
      ],
      "metadata": {
        "colab": {
          "base_uri": "https://localhost:8080/"
        },
        "id": "5E12NwgywG30",
        "outputId": "c44c884e-ede2-4f31-c4e3-bc4f64be2219"
      },
      "execution_count": 17,
      "outputs": [
        {
          "output_type": "stream",
          "name": "stdout",
          "text": [
            "Epoch 1/20\n",
            "56/56 [==============================] - 681s 3s/step - loss: 2.9974 - accuracy: 0.2729 - val_loss: 2.2220 - val_accuracy: 0.0559\n",
            "Epoch 2/20\n",
            "56/56 [==============================] - 6s 103ms/step - loss: 2.2482 - accuracy: 0.3544 - val_loss: 2.2732 - val_accuracy: 0.1521\n",
            "Epoch 3/20\n",
            "56/56 [==============================] - 6s 104ms/step - loss: 1.9422 - accuracy: 0.4012 - val_loss: 2.3524 - val_accuracy: 0.1477\n",
            "Epoch 4/20\n",
            "56/56 [==============================] - 6s 104ms/step - loss: 1.7014 - accuracy: 0.4615 - val_loss: 2.3874 - val_accuracy: 0.1544\n",
            "Epoch 5/20\n",
            "56/56 [==============================] - 6s 104ms/step - loss: 1.5013 - accuracy: 0.5028 - val_loss: 2.3269 - val_accuracy: 0.1857\n",
            "Epoch 6/20\n",
            "56/56 [==============================] - 6s 104ms/step - loss: 1.3711 - accuracy: 0.5357 - val_loss: 2.2027 - val_accuracy: 0.2327\n",
            "Epoch 7/20\n",
            "56/56 [==============================] - 6s 104ms/step - loss: 1.2883 - accuracy: 0.5463 - val_loss: 2.0198 - val_accuracy: 0.2819\n",
            "Epoch 8/20\n",
            "56/56 [==============================] - 6s 105ms/step - loss: 1.1978 - accuracy: 0.5787 - val_loss: 1.8600 - val_accuracy: 0.3445\n",
            "Epoch 9/20\n",
            "56/56 [==============================] - 6s 104ms/step - loss: 1.0781 - accuracy: 0.6256 - val_loss: 1.7049 - val_accuracy: 0.3982\n",
            "Epoch 10/20\n",
            "56/56 [==============================] - 6s 106ms/step - loss: 1.0351 - accuracy: 0.6378 - val_loss: 1.6025 - val_accuracy: 0.4474\n",
            "Epoch 11/20\n",
            "56/56 [==============================] - 6s 105ms/step - loss: 0.8991 - accuracy: 0.6864 - val_loss: 1.5376 - val_accuracy: 0.4944\n",
            "Epoch 12/20\n",
            "56/56 [==============================] - 6s 104ms/step - loss: 0.8893 - accuracy: 0.6908 - val_loss: 1.5213 - val_accuracy: 0.5056\n",
            "Epoch 13/20\n",
            "56/56 [==============================] - 6s 104ms/step - loss: 0.7893 - accuracy: 0.7372 - val_loss: 1.5135 - val_accuracy: 0.5168\n",
            "Epoch 14/20\n",
            "56/56 [==============================] - 6s 104ms/step - loss: 0.7545 - accuracy: 0.7467 - val_loss: 1.5227 - val_accuracy: 0.5145\n",
            "Epoch 15/20\n",
            "56/56 [==============================] - 6s 104ms/step - loss: 0.7276 - accuracy: 0.7522 - val_loss: 1.5147 - val_accuracy: 0.5011\n",
            "Epoch 16/20\n",
            "56/56 [==============================] - 6s 104ms/step - loss: 0.7024 - accuracy: 0.7673 - val_loss: 1.5353 - val_accuracy: 0.5145\n",
            "Epoch 17/20\n",
            "56/56 [==============================] - 6s 105ms/step - loss: 0.6516 - accuracy: 0.7829 - val_loss: 1.5222 - val_accuracy: 0.5168\n",
            "Epoch 18/20\n",
            "56/56 [==============================] - 6s 105ms/step - loss: 0.6179 - accuracy: 0.8030 - val_loss: 1.5252 - val_accuracy: 0.5213\n",
            "Epoch 19/20\n",
            "56/56 [==============================] - 6s 105ms/step - loss: 0.5820 - accuracy: 0.8181 - val_loss: 1.5041 - val_accuracy: 0.5168\n",
            "Epoch 20/20\n",
            "56/56 [==============================] - 6s 105ms/step - loss: 0.5314 - accuracy: 0.8220 - val_loss: 1.5165 - val_accuracy: 0.5168\n"
          ]
        }
      ]
    },
    {
      "cell_type": "markdown",
      "source": [
        "## Visualizing training results"
      ],
      "metadata": {
        "id": "FXBUJsiMHeKi"
      }
    },
    {
      "cell_type": "code",
      "source": [
        "acc = history.history['accuracy']\n",
        "val_acc = history.history['val_accuracy']\n",
        "\n",
        "loss = history.history['loss']\n",
        "val_loss = history.history['val_loss']\n",
        "\n",
        "epochs_range = range(epochs)\n",
        "\n",
        "plt.figure(figsize=(8, 8))\n",
        "plt.subplot(1, 2, 1)\n",
        "plt.plot(epochs_range, acc, label='Training Accuracy')\n",
        "plt.plot(epochs_range, val_acc, label='Validation Accuracy')\n",
        "plt.legend(loc='lower right')\n",
        "plt.title('Training and Validation Accuracy')\n",
        "\n",
        "plt.subplot(1, 2, 2)\n",
        "plt.plot(epochs_range, loss, label='Training Loss')\n",
        "plt.plot(epochs_range, val_loss, label='Validation Loss')\n",
        "plt.legend(loc='upper right')\n",
        "plt.title('Training and Validation Loss')\n",
        "plt.show()"
      ],
      "metadata": {
        "colab": {
          "base_uri": "https://localhost:8080/",
          "height": 499
        },
        "id": "7M1soie8Hdqr",
        "outputId": "3f52bf0d-ee1a-4192-e6b8-d7f3f55d1a6d"
      },
      "execution_count": 18,
      "outputs": [
        {
          "output_type": "display_data",
          "data": {
            "text/plain": [
              "<Figure size 576x576 with 2 Axes>"
            ],
            "image/png": "[encoded data removed]"
          },
          "metadata": {
            "needs_background": "light"
          }
        }
      ]
    },
    {
      "cell_type": "markdown",
      "source": [
        "From the above graph we can see that with increase in training accuracy the validation accuracy is decreasing. it is due to overfitting."
      ],
      "metadata": {
        "id": "UmpoC6xFKYeD"
      }
    },
    {
      "cell_type": "markdown",
      "source": [
        "## data Agumentation to overcome overfitting\n"
      ],
      "metadata": {
        "id": "PzF8WneBHeNg"
      }
    },
    {
      "cell_type": "code",
      "source": [
        "image_size = 180\n",
        "batch_size = 32\n",
        "\n",
        "train_data_gen = tf.keras.preprocessing.image.ImageDataGenerator(preprocessing_function = preprocess_input,\n",
        "    shear_range=0.2, zoom_range=0.2, horizontal_flip=True,validation_split = 0.2)\n",
        "test_data_gen = ImageDataGenerator(preprocessing_function = preprocess_input)\n",
        "train_generator = train_data_gen.flow_from_directory(data_dir_train, (image_size,image_size), batch_size=batch_size, class_mode='categorical',subset='training')\n",
        "valid_generator = train_data_gen.flow_from_directory(data_dir_train, (image_size,image_size), batch_size=batch_size, class_mode='categorical',subset='validation')\n",
        "test_generator = test_data_gen.flow_from_directory(data_dir_test, (image_size,image_size), batch_size=batch_size, class_mode='categorical')"
      ],
      "metadata": {
        "colab": {
          "base_uri": "https://localhost:8080/"
        },
        "id": "motVxUS06AZ2",
        "outputId": "ee872139-b5e8-42c3-90e2-522e6ecddd65"
      },
      "execution_count": 19,
      "outputs": [
        {
          "output_type": "stream",
          "name": "stdout",
          "text": [
            "Found 1795 images belonging to 9 classes.\n",
            "Found 444 images belonging to 9 classes.\n",
            "Found 118 images belonging to 9 classes.\n"
          ]
        }
      ]
    },
    {
      "cell_type": "markdown",
      "source": [
        "## Compiling the model"
      ],
      "metadata": {
        "id": "xl1CuzIWGJuY"
      }
    },
    {
      "cell_type": "code",
      "source": [
        "### Todo, choose an appropirate optimiser and loss function\n",
        "model.compile(optimizer= tf.keras.optimizers.Adadelta(),\n",
        "              loss= tf.keras.losses.categorical_crossentropy,\n",
        "              metrics=['accuracy'])"
      ],
      "metadata": {
        "id": "NJC-ePyfF9Rd"
      },
      "execution_count": 20,
      "outputs": []
    },
    {
      "cell_type": "markdown",
      "source": [
        "### Training the model"
      ],
      "metadata": {
        "id": "3_n2JgLQGN_A"
      }
    },
    {
      "cell_type": "code",
      "source": [
        "# Training the fully conncected layer for initial epochs\n",
        "epochs = 20\n",
        "\n",
        "# Training the model\n",
        "\n",
        "history=model.fit(\n",
        "    train_generator,\n",
        "    steps_per_epoch=train_generator.n//batch_size,\n",
        "    validation_data=valid_generator,\n",
        "    validation_steps=valid_generator.n//batch_size,\n",
        "    epochs=epochs,\n",
        "    verbose=1)\n"
      ],
      "metadata": {
        "colab": {
          "base_uri": "https://localhost:8080/"
        },
        "id": "4NzspJzmFZQu",
        "outputId": "b0403ec4-25e8-4704-ea05-5a3b4da06215"
      },
      "execution_count": 21,
      "outputs": [
        {
          "output_type": "stream",
          "name": "stdout",
          "text": [
            "Epoch 1/20\n",
            "56/56 [==============================] - 55s 983ms/step - loss: 2.1806 - accuracy: 0.3659 - val_loss: 3.0150 - val_accuracy: 0.2812\n",
            "Epoch 2/20\n",
            "56/56 [==============================] - 51s 920ms/step - loss: 1.8933 - accuracy: 0.4095 - val_loss: 2.1760 - val_accuracy: 0.3221\n",
            "Epoch 3/20\n",
            "56/56 [==============================] - 51s 913ms/step - loss: 1.7854 - accuracy: 0.4214 - val_loss: 1.8914 - val_accuracy: 0.4038\n",
            "Epoch 4/20\n",
            "56/56 [==============================] - 51s 911ms/step - loss: 1.6596 - accuracy: 0.4668 - val_loss: 1.7501 - val_accuracy: 0.3918\n",
            "Epoch 5/20\n",
            "56/56 [==============================] - 51s 904ms/step - loss: 1.6075 - accuracy: 0.4714 - val_loss: 1.6802 - val_accuracy: 0.4519\n",
            "Epoch 6/20\n",
            "56/56 [==============================] - 49s 882ms/step - loss: 1.5473 - accuracy: 0.4957 - val_loss: 1.6254 - val_accuracy: 0.4375\n",
            "Epoch 7/20\n",
            "56/56 [==============================] - 49s 880ms/step - loss: 1.5236 - accuracy: 0.4878 - val_loss: 1.5650 - val_accuracy: 0.4471\n",
            "Epoch 8/20\n",
            "56/56 [==============================] - 49s 883ms/step - loss: 1.5112 - accuracy: 0.5003 - val_loss: 1.5872 - val_accuracy: 0.4519\n",
            "Epoch 9/20\n",
            "56/56 [==============================] - 50s 897ms/step - loss: 1.4596 - accuracy: 0.5105 - val_loss: 1.6112 - val_accuracy: 0.4447\n",
            "Epoch 10/20\n",
            "56/56 [==============================] - 49s 875ms/step - loss: 1.4195 - accuracy: 0.5275 - val_loss: 1.6143 - val_accuracy: 0.4303\n",
            "Epoch 11/20\n",
            "56/56 [==============================] - 49s 877ms/step - loss: 1.3850 - accuracy: 0.5326 - val_loss: 1.5998 - val_accuracy: 0.4471\n",
            "Epoch 12/20\n",
            "56/56 [==============================] - 49s 877ms/step - loss: 1.3603 - accuracy: 0.5394 - val_loss: 1.6107 - val_accuracy: 0.4447\n",
            "Epoch 13/20\n",
            "56/56 [==============================] - 50s 893ms/step - loss: 1.3313 - accuracy: 0.5326 - val_loss: 1.6679 - val_accuracy: 0.4447\n",
            "Epoch 14/20\n",
            "56/56 [==============================] - 49s 877ms/step - loss: 1.3041 - accuracy: 0.5502 - val_loss: 1.5612 - val_accuracy: 0.4519\n",
            "Epoch 15/20\n",
            "56/56 [==============================] - 49s 870ms/step - loss: 1.2764 - accuracy: 0.5570 - val_loss: 1.5545 - val_accuracy: 0.4615\n",
            "Epoch 16/20\n",
            "56/56 [==============================] - 49s 874ms/step - loss: 1.2990 - accuracy: 0.5547 - val_loss: 1.5827 - val_accuracy: 0.4567\n",
            "Epoch 17/20\n",
            "56/56 [==============================] - 49s 875ms/step - loss: 1.2631 - accuracy: 0.5593 - val_loss: 1.5253 - val_accuracy: 0.4832\n",
            "Epoch 18/20\n",
            "56/56 [==============================] - 49s 870ms/step - loss: 1.2336 - accuracy: 0.5723 - val_loss: 1.6171 - val_accuracy: 0.4688\n",
            "Epoch 19/20\n",
            "56/56 [==============================] - 49s 880ms/step - loss: 1.2783 - accuracy: 0.5632 - val_loss: 1.5576 - val_accuracy: 0.4880\n",
            "Epoch 20/20\n",
            "56/56 [==============================] - 50s 894ms/step - loss: 1.2218 - accuracy: 0.5825 - val_loss: 1.5377 - val_accuracy: 0.4615\n"
          ]
        }
      ]
    },
    {
      "cell_type": "markdown",
      "source": [
        "### Visualizing the results"
      ],
      "metadata": {
        "id": "Dv3s3f7gGP4r"
      }
    },
    {
      "cell_type": "code",
      "source": [
        "acc = history.history['accuracy']\n",
        "val_acc = history.history['val_accuracy']\n",
        "\n",
        "loss = history.history['loss']\n",
        "val_loss = history.history['val_loss']\n",
        "\n",
        "epochs_range = range(epochs)\n",
        "\n",
        "plt.figure(figsize=(8, 8))\n",
        "plt.subplot(1, 2, 1)\n",
        "plt.plot(epochs_range, acc, label='Training Accuracy')\n",
        "plt.plot(epochs_range, val_acc, label='Validation Accuracy')\n",
        "plt.legend(loc='lower right')\n",
        "plt.title('Training and Validation Accuracy')\n",
        "\n",
        "plt.subplot(1, 2, 2)\n",
        "plt.plot(epochs_range, loss, label='Training Loss')\n",
        "plt.plot(epochs_range, val_loss, label='Validation Loss')\n",
        "plt.legend(loc='upper right')\n",
        "plt.title('Training and Validation Loss')\n",
        "plt.show()"
      ],
      "metadata": {
        "colab": {
          "base_uri": "https://localhost:8080/",
          "height": 499
        },
        "id": "ZSI0aSNHGTta",
        "outputId": "81ac1a19-2e89-4048-bfb2-82278676c515"
      },
      "execution_count": 22,
      "outputs": [
        {
          "output_type": "display_data",
          "data": {
            "text/plain": [
              "<Figure size 576x576 with 2 Axes>"
            ],
            "image/png": "[encoded data removed]"
          },
          "metadata": {
            "needs_background": "light"
          }
        }
      ]
    },
    {
      "cell_type": "markdown",
      "source": [
        "From the graph we can see that the overfitting is resolved using image argumentation."
      ],
      "metadata": {
        "id": "av5hxkRgRjvr"
      }
    },
    {
      "cell_type": "code",
      "source": [
        "# code reference from https://stackoverflow.com/questions/2632205/how-to-count-the-number-of-files-in-a-directory-using-python and other resources.\n",
        "ls= []\n",
        "for path in pathlib.Path(data_dir_train).iterdir():\n",
        "    if path.is_dir():\n",
        "        ls.append(len([name for name in os.listdir(path) if os.path.isfile(os.path.join(path, name))]))\n",
        "    \n",
        "\n",
        "classes_name = [name for name in os.listdir(data_dir_train) if os.path.isdir(os.path.join(data_dir_train, name))]\n",
        "    \n",
        "    #return dataframe with image count and class.\n",
        "    \n",
        "\n",
        "df = pd.DataFrame(list(zip(classes_name,ls)),columns =['Class', 'No. of Image'])\n",
        "df"
      ],
      "metadata": {
        "colab": {
          "base_uri": "https://localhost:8080/",
          "height": 332
        },
        "id": "3PWrhwE9GsxW",
        "outputId": "75953091-6256-43f0-8648-92437b2c7592"
      },
      "execution_count": 23,
      "outputs": [
        {
          "output_type": "execute_result",
          "data": {
            "text/plain": [
              "                        Class  No. of Image\n",
              "0        basal cell carcinoma           376\n",
              "1              dermatofibroma            95\n",
              "2                    melanoma           438\n",
              "3           actinic keratosis           114\n",
              "4                       nevus           357\n",
              "5  pigmented benign keratosis           462\n",
              "6        seborrheic keratosis            77\n",
              "7     squamous cell carcinoma           181\n",
              "8             vascular lesion           139"
            ],
            "text/html": [
              "\n",
              "  <div id=\"df-2af0c450-9582-47f5-b8eb-6707de06b162\">\n",
              "    <div class=\"colab-df-container\">\n",
              "      <div>\n",
              "<style scoped>\n",
              "    .dataframe tbody tr th:only-of-type {\n",
              "        vertical-align: middle;\n",
              "    }\n",
              "\n",
              "    .dataframe tbody tr th {\n",
              "        vertical-align: top;\n",
              "    }\n",
              "\n",
              "    .dataframe thead th {\n",
              "        text-align: right;\n",
              "    }\n",
              "</style>\n",
              "<table border=\"1\" class=\"dataframe\">\n",
              "  <thead>\n",
              "    <tr style=\"text-align: right;\">\n",
              "      <th></th>\n",
              "      <th>Class</th>\n",
              "      <th>No. of Image</th>\n",
              "    </tr>\n",
              "  </thead>\n",
              "  <tbody>\n",
              "    <tr>\n",
              "      <th>0</th>\n",
              "      <td>basal cell carcinoma</td>\n",
              "      <td>376</td>\n",
              "    </tr>\n",
              "    <tr>\n",
              "      <th>1</th>\n",
              "      <td>dermatofibroma</td>\n",
              "      <td>95</td>\n",
              "    </tr>\n",
              "    <tr>\n",
              "      <th>2</th>\n",
              "      <td>melanoma</td>\n",
              "      <td>438</td>\n",
              "    </tr>\n",
              "    <tr>\n",
              "      <th>3</th>\n",
              "      <td>actinic keratosis</td>\n",
              "      <td>114</td>\n",
              "    </tr>\n",
              "    <tr>\n",
              "      <th>4</th>\n",
              "      <td>nevus</td>\n",
              "      <td>357</td>\n",
              "    </tr>\n",
              "    <tr>\n",
              "      <th>5</th>\n",
              "      <td>pigmented benign keratosis</td>\n",
              "      <td>462</td>\n",
              "    </tr>\n",
              "    <tr>\n",
              "      <th>6</th>\n",
              "      <td>seborrheic keratosis</td>\n",
              "      <td>77</td>\n",
              "    </tr>\n",
              "    <tr>\n",
              "      <th>7</th>\n",
              "      <td>squamous cell carcinoma</td>\n",
              "      <td>181</td>\n",
              "    </tr>\n",
              "    <tr>\n",
              "      <th>8</th>\n",
              "      <td>vascular lesion</td>\n",
              "      <td>139</td>\n",
              "    </tr>\n",
              "  </tbody>\n",
              "</table>\n",
              "</div>\n",
              "      <button class=\"colab-df-convert\" onclick=\"convertToInteractive('df-2af0c450-9582-47f5-b8eb-6707de06b162')\"\n",
              "              title=\"Convert this dataframe to an interactive table.\"\n",
              "              style=\"display:none;\">\n",
              "        \n",
              "  <svg xmlns=\"http://www.w3.org/2000/svg\" height=\"24px\"viewBox=\"0 0 24 24\"\n",
              "       width=\"24px\">\n",
              "    <path d=\"M0 0h24v24H0V0z\" fill=\"none\"/>\n",
              "    <path d=\"M18.56 5.44l.94 2.06.94-2.06 2.06-.94-2.06-.94-.94-2.06-.94 2.06-2.06.94zm-11 1L8.5 8.5l.94-2.06 2.06-.94-2.06-.94L8.5 2.5l-.94 2.06-2.06.94zm10 10l.94 2.06.94-2.06 2.06-.94-2.06-.94-.94-2.06-.94 2.06-2.06.94z\"/><path d=\"M17.41 7.96l-1.37-1.37c-.4-.4-.92-.59-1.43-.59-.52 0-1.04.2-1.43.59L10.3 9.45l-7.72 7.72c-.78.78-.78 2.05 0 2.83L4 21.41c.39.39.9.59 1.41.59.51 0 1.02-.2 1.41-.59l7.78-7.78 2.81-2.81c.8-.78.8-2.07 0-2.86zM5.41 20L4 18.59l7.72-7.72 1.47 1.35L5.41 20z\"/>\n",
              "  </svg>\n",
              "      </button>\n",
              "      \n",
              "  <style>\n",
              "    .colab-df-container {\n",
              "      display:flex;\n",
              "      flex-wrap:wrap;\n",
              "      gap: 12px;\n",
              "    }\n",
              "\n",
              "    .colab-df-convert {\n",
              "      background-color: #E8F0FE;\n",
              "      border: none;\n",
              "      border-radius: 50%;\n",
              "      cursor: pointer;\n",
              "      display: none;\n",
              "      fill: #1967D2;\n",
              "      height: 32px;\n",
              "      padding: 0 0 0 0;\n",
              "      width: 32px;\n",
              "    }\n",
              "\n",
              "    .colab-df-convert:hover {\n",
              "      background-color: #E2EBFA;\n",
              "      box-shadow: 0px 1px 2px rgba(60, 64, 67, 0.3), 0px 1px 3px 1px rgba(60, 64, 67, 0.15);\n",
              "      fill: #174EA6;\n",
              "    }\n",
              "\n",
              "    [theme=dark] .colab-df-convert {\n",
              "      background-color: #3B4455;\n",
              "      fill: #D2E3FC;\n",
              "    }\n",
              "\n",
              "    [theme=dark] .colab-df-convert:hover {\n",
              "      background-color: #434B5C;\n",
              "      box-shadow: 0px 1px 3px 1px rgba(0, 0, 0, 0.15);\n",
              "      filter: drop-shadow(0px 1px 2px rgba(0, 0, 0, 0.3));\n",
              "      fill: #FFFFFF;\n",
              "    }\n",
              "  </style>\n",
              "\n",
              "      <script>\n",
              "        const buttonEl =\n",
              "          document.querySelector('#df-2af0c450-9582-47f5-b8eb-6707de06b162 button.colab-df-convert');\n",
              "        buttonEl.style.display =\n",
              "          google.colab.kernel.accessAllowed ? 'block' : 'none';\n",
              "\n",
              "        async function convertToInteractive(key) {\n",
              "          const element = document.querySelector('#df-2af0c450-9582-47f5-b8eb-6707de06b162');\n",
              "          const dataTable =\n",
              "            await google.colab.kernel.invokeFunction('convertToInteractive',\n",
              "                                                     [key], {});\n",
              "          if (!dataTable) return;\n",
              "\n",
              "          const docLinkHtml = 'Like what you see? Visit the ' +\n",
              "            '<a target=\"_blank\" href=https://colab.research.google.com/notebooks/data_table.ipynb>data table notebook</a>'\n",
              "            + ' to learn more about interactive tables.';\n",
              "          element.innerHTML = '';\n",
              "          dataTable['output_type'] = 'display_data';\n",
              "          await google.colab.output.renderOutput(dataTable, element);\n",
              "          const docLink = document.createElement('div');\n",
              "          docLink.innerHTML = docLinkHtml;\n",
              "          element.appendChild(docLink);\n",
              "        }\n",
              "      </script>\n",
              "    </div>\n",
              "  </div>\n",
              "  "
            ]
          },
          "metadata": {},
          "execution_count": 23
        }
      ]
    },
    {
      "cell_type": "markdown",
      "source": [
        "There is imbalance in the dataset. \"pigmented benign keratosis\" is highest and \"seborrheic keratosis\" is least present in the dataset."
      ],
      "metadata": {
        "id": "_UAUCAsZSG6J"
      }
    },
    {
      "cell_type": "markdown",
      "source": [
        "## Imbalance"
      ],
      "metadata": {
        "id": "cxgMy6paGtjg"
      }
    },
    {
      "cell_type": "code",
      "source": [
        "!pip install Augmentor"
      ],
      "metadata": {
        "colab": {
          "base_uri": "https://localhost:8080/"
        },
        "id": "QTVCxhEiM5zk",
        "outputId": "b73925b4-7f3e-4648-af50-299c947de366"
      },
      "execution_count": 25,
      "outputs": [
        {
          "output_type": "stream",
          "name": "stdout",
          "text": [
            "Looking in indexes: https://pypi.org/simple, https://us-python.pkg.dev/colab-wheels/public/simple/\n",
            "Collecting Augmentor\n",
            "  Downloading Augmentor-0.2.10-py2.py3-none-any.whl (38 kB)\n",
            "Requirement already satisfied: tqdm>=4.9.0 in /usr/local/lib/python3.8/dist-packages (from Augmentor) (4.64.1)\n",
            "Requirement already satisfied: Pillow>=5.2.0 in /usr/local/lib/python3.8/dist-packages (from Augmentor) (7.1.2)\n",
            "Requirement already satisfied: numpy>=1.11.0 in /usr/local/lib/python3.8/dist-packages (from Augmentor) (1.21.6)\n",
            "Requirement already satisfied: future>=0.16.0 in /usr/local/lib/python3.8/dist-packages (from Augmentor) (0.16.0)\n",
            "Installing collected packages: Augmentor\n",
            "Successfully installed Augmentor-0.2.10\n"
          ]
        }
      ]
    },
    {
      "cell_type": "code",
      "source": [
        "import Augmentor\n",
        "path_train=\"/content/gdrive/MyDrive/UpGrad/Melanoma Case Study/Skin cancer ISIC The International Skin Imaging Collaboration/Train\"\n",
        "for i in class_names:\n",
        "    p = Augmentor.Pipeline(path_train + '/'+i)\n",
        "    p.rotate(probability=0.7, max_left_rotation=10, max_right_rotation=10)\n",
        "    p.sample(500)  #Adding 500 samples per class to make sure that none of the classes are sparse"
      ],
      "metadata": {
        "colab": {
          "base_uri": "https://localhost:8080/"
        },
        "id": "G_ha3KfWKuph",
        "outputId": "312862dd-7208-4225-ffa6-3c8174ac3338"
      },
      "execution_count": 26,
      "outputs": [
        {
          "output_type": "stream",
          "name": "stdout",
          "text": [
            "Initialised with 114 image(s) found.\n",
            "Output directory set to /content/gdrive/MyDrive/UpGrad/Melanoma Case Study/Skin cancer ISIC The International Skin Imaging Collaboration/Train/actinic keratosis/output."
          ]
        },
        {
          "output_type": "stream",
          "name": "stderr",
          "text": [
            "Processing <PIL.JpegImagePlugin.JpegImageFile image mode=RGB size=600x450 at 0x7FDE7A8773D0>: 100%|██████████| 500/500 [00:20<00:00, 23.88 Samples/s]\n"
          ]
        },
        {
          "output_type": "stream",
          "name": "stdout",
          "text": [
            "Initialised with 376 image(s) found.\n",
            "Output directory set to /content/gdrive/MyDrive/UpGrad/Melanoma Case Study/Skin cancer ISIC The International Skin Imaging Collaboration/Train/basal cell carcinoma/output."
          ]
        },
        {
          "output_type": "stream",
          "name": "stderr",
          "text": [
            "Processing <PIL.Image.Image image mode=RGB size=600x450 at 0x7FDE7A83F2B0>: 100%|██████████| 500/500 [00:23<00:00, 21.36 Samples/s]\n"
          ]
        },
        {
          "output_type": "stream",
          "name": "stdout",
          "text": [
            "Initialised with 95 image(s) found.\n",
            "Output directory set to /content/gdrive/MyDrive/UpGrad/Melanoma Case Study/Skin cancer ISIC The International Skin Imaging Collaboration/Train/dermatofibroma/output."
          ]
        },
        {
          "output_type": "stream",
          "name": "stderr",
          "text": [
            "Processing <PIL.Image.Image image mode=RGB size=600x450 at 0x7FDF6BAA8BE0>: 100%|██████████| 500/500 [00:18<00:00, 27.19 Samples/s]\n"
          ]
        },
        {
          "output_type": "stream",
          "name": "stdout",
          "text": [
            "Initialised with 438 image(s) found.\n",
            "Output directory set to /content/gdrive/MyDrive/UpGrad/Melanoma Case Study/Skin cancer ISIC The International Skin Imaging Collaboration/Train/melanoma/output."
          ]
        },
        {
          "output_type": "stream",
          "name": "stderr",
          "text": [
            "Processing <PIL.Image.Image image mode=RGB size=963x629 at 0x7FDE78324940>: 100%|██████████| 500/500 [01:28<00:00,  5.67 Samples/s]\n"
          ]
        },
        {
          "output_type": "stream",
          "name": "stdout",
          "text": [
            "Initialised with 357 image(s) found.\n",
            "Output directory set to /content/gdrive/MyDrive/UpGrad/Melanoma Case Study/Skin cancer ISIC The International Skin Imaging Collaboration/Train/nevus/output."
          ]
        },
        {
          "output_type": "stream",
          "name": "stderr",
          "text": [
            "Processing <PIL.JpegImagePlugin.JpegImageFile image mode=RGB size=824x719 at 0x7FDE7A86AC40>: 100%|██████████| 500/500 [01:22<00:00,  6.04 Samples/s]\n"
          ]
        },
        {
          "output_type": "stream",
          "name": "stdout",
          "text": [
            "Initialised with 462 image(s) found.\n",
            "Output directory set to /content/gdrive/MyDrive/UpGrad/Melanoma Case Study/Skin cancer ISIC The International Skin Imaging Collaboration/Train/pigmented benign keratosis/output."
          ]
        },
        {
          "output_type": "stream",
          "name": "stderr",
          "text": [
            "Processing <PIL.Image.Image image mode=RGB size=600x450 at 0x7FDE7B693A30>: 100%|██████████| 500/500 [00:17<00:00, 27.79 Samples/s]\n"
          ]
        },
        {
          "output_type": "stream",
          "name": "stdout",
          "text": [
            "Initialised with 77 image(s) found.\n",
            "Output directory set to /content/gdrive/MyDrive/UpGrad/Melanoma Case Study/Skin cancer ISIC The International Skin Imaging Collaboration/Train/seborrheic keratosis/output."
          ]
        },
        {
          "output_type": "stream",
          "name": "stderr",
          "text": [
            "Processing <PIL.Image.Image image mode=RGB size=1024x768 at 0x7FDE78CBF2B0>: 100%|██████████| 500/500 [00:40<00:00, 12.29 Samples/s]\n"
          ]
        },
        {
          "output_type": "stream",
          "name": "stdout",
          "text": [
            "Initialised with 181 image(s) found.\n",
            "Output directory set to /content/gdrive/MyDrive/UpGrad/Melanoma Case Study/Skin cancer ISIC The International Skin Imaging Collaboration/Train/squamous cell carcinoma/output."
          ]
        },
        {
          "output_type": "stream",
          "name": "stderr",
          "text": [
            "Processing <PIL.Image.Image image mode=RGB size=600x450 at 0x7FDE783265E0>: 100%|██████████| 500/500 [00:17<00:00, 28.78 Samples/s]\n"
          ]
        },
        {
          "output_type": "stream",
          "name": "stdout",
          "text": [
            "Initialised with 139 image(s) found.\n",
            "Output directory set to /content/gdrive/MyDrive/UpGrad/Melanoma Case Study/Skin cancer ISIC The International Skin Imaging Collaboration/Train/vascular lesion/output."
          ]
        },
        {
          "output_type": "stream",
          "name": "stderr",
          "text": [
            "Processing <PIL.Image.Image image mode=RGB size=600x450 at 0x7FDE7B6D6700>: 100%|██████████| 500/500 [00:17<00:00, 28.53 Samples/s]\n"
          ]
        }
      ]
    },
    {
      "cell_type": "code",
      "source": [
        "#Count total number of image generated by Augmentor.\n",
        "image_count_train = len(list(data_dir_train.glob('*/output/*.jpg')))\n",
        "print(image_count_train)"
      ],
      "metadata": {
        "colab": {
          "base_uri": "https://localhost:8080/"
        },
        "id": "V7wiT5K3l3PT",
        "outputId": "9ac2a76b-213d-437c-dcff-f1ae62656186"
      },
      "execution_count": 27,
      "outputs": [
        {
          "output_type": "stream",
          "name": "stdout",
          "text": [
            "4500\n"
          ]
        }
      ]
    },
    {
      "cell_type": "code",
      "source": [
        "## Write your train dataset here\n",
        "## Note use seed=123 while creating your dataset using tf.keras.preprocessing.image_dataset_from_directory\n",
        "## Note, make sure your resize your images to the size img_height*img_width, while writting the dataset\n",
        "train_ds = tf.keras.utils.image_dataset_from_directory(\n",
        "    data_dir_train,\n",
        "    labels='inferred',\n",
        "    label_mode='categorical',\n",
        "    class_names=None,\n",
        "    color_mode='rgb',\n",
        "    batch_size=32,\n",
        "    image_size=(180, 180),\n",
        "    shuffle=True,\n",
        "    seed=123,\n",
        "    validation_split=0.20,\n",
        "    subset=\"training\",\n",
        "    interpolation='bilinear',\n",
        "    follow_links=False,\n",
        "    crop_to_aspect_ratio=False\n",
        "    \n",
        ")"
      ],
      "metadata": {
        "colab": {
          "base_uri": "https://localhost:8080/"
        },
        "id": "tZ0kWfrmfTjh",
        "outputId": "6dcc9025-1401-45e3-a791-9a4ce7ca0f14"
      },
      "execution_count": 28,
      "outputs": [
        {
          "output_type": "stream",
          "name": "stdout",
          "text": [
            "Found 6739 files belonging to 9 classes.\n",
            "Using 5392 files for training.\n"
          ]
        }
      ]
    },
    {
      "cell_type": "code",
      "source": [
        "## Write your validation dataset here\n",
        "## Note use seed=123 while creating your dataset using tf.keras.preprocessing.image_dataset_from_directory\n",
        "## Note, make sure your resize your images to the size img_height*img_width, while writting the dataset\n",
        "val_ds =  tf.keras.utils.image_dataset_from_directory(\n",
        "    data_dir_train,\n",
        "    labels='inferred',\n",
        "    label_mode='categorical',\n",
        "    class_names=None,\n",
        "    color_mode='rgb',\n",
        "    batch_size=32,\n",
        "    image_size=(180, 180),\n",
        "    shuffle=True,\n",
        "    seed=123,\n",
        "    validation_split=0.20,\n",
        "    subset=\"validation\",\n",
        "    interpolation='bilinear',\n",
        "    follow_links=False,\n",
        "    crop_to_aspect_ratio=False\n",
        "    \n",
        ")"
      ],
      "metadata": {
        "colab": {
          "base_uri": "https://localhost:8080/"
        },
        "id": "31iVO0cPfTnO",
        "outputId": "0ddd7001-0bfb-404b-eed4-e663094d6392"
      },
      "execution_count": 29,
      "outputs": [
        {
          "output_type": "stream",
          "name": "stdout",
          "text": [
            "Found 6739 files belonging to 9 classes.\n",
            "Using 1347 files for validation.\n"
          ]
        }
      ]
    },
    {
      "cell_type": "code",
      "source": [
        "image_size = 180\n",
        "batch_size = 32\n",
        "\n",
        "train_data_gen = tf.keras.preprocessing.image.ImageDataGenerator(preprocessing_function = preprocess_input,\n",
        "    shear_range=0.2, zoom_range=0.2, horizontal_flip=True,validation_split = 0.2)\n",
        "test_data_gen = ImageDataGenerator(preprocessing_function = preprocess_input)\n",
        "train_generator = train_data_gen.flow_from_directory(data_dir_train, (image_size,image_size), batch_size=batch_size, class_mode='categorical',subset='training')\n",
        "valid_generator = train_data_gen.flow_from_directory(data_dir_train, (image_size,image_size), batch_size=batch_size, class_mode='categorical',subset='validation')\n",
        "test_generator = test_data_gen.flow_from_directory(data_dir_test, (image_size,image_size), batch_size=batch_size, class_mode='categorical')"
      ],
      "metadata": {
        "colab": {
          "base_uri": "https://localhost:8080/"
        },
        "id": "M4Xd09OZWT7O",
        "outputId": "7cef2831-dd9c-413c-c671-531c2448c4b7"
      },
      "execution_count": 30,
      "outputs": [
        {
          "output_type": "stream",
          "name": "stdout",
          "text": [
            "Found 5395 images belonging to 9 classes.\n",
            "Found 1344 images belonging to 9 classes.\n",
            "Found 118 images belonging to 9 classes.\n"
          ]
        }
      ]
    },
    {
      "cell_type": "code",
      "source": [
        "AUTOTUNE = tf.data.experimental.AUTOTUNE\n",
        "train_ds = train_ds.cache().shuffle(1000).prefetch(buffer_size=AUTOTUNE)\n",
        "val_ds = val_ds.cache().prefetch(buffer_size=AUTOTUNE)"
      ],
      "metadata": {
        "id": "3XIxBHzshnyu"
      },
      "execution_count": 31,
      "outputs": []
    },
    {
      "cell_type": "markdown",
      "source": [
        "### Lets see the distribution of augmented data after adding new images to the original training data."
      ],
      "metadata": {
        "id": "0sgyPvZCU6fG"
      }
    },
    {
      "cell_type": "code",
      "source": [
        "# model\n",
        "model = Sequential()\n",
        "model.add(layers.experimental.preprocessing.Rescaling(1./255,input_shape=(180,180,3)))\n",
        "# first conv layer\n",
        "model.add(Conv2D(32, kernel_size=(3, 3),\n",
        "                 activation='relu'))\n",
        "model.add(Activation('relu'))\n",
        "model.add(BatchNormalization())\n",
        "model.add(Conv2D(32, (3, 3)))\n",
        "model.add(Activation('relu'))\n",
        "model.add(BatchNormalization())\n",
        "model.add(MaxPooling2D(pool_size=(2, 2)))\n",
        "\n",
        "model.add(Conv2D(64, (3, 3), padding='same'))\n",
        "model.add(Activation('relu'))\n",
        "model.add(BatchNormalization())\n",
        "model.add(Conv2D(64, (3, 3)))\n",
        "model.add(Activation('relu'))\n",
        "model.add(BatchNormalization())\n",
        "model.add(MaxPooling2D(pool_size=(2, 2)))\n",
        "\n",
        "model.add(Flatten())\n",
        "model.add(Dense(512))\n",
        "model.add(Activation('relu'))\n",
        "model.add(Dropout(0.5))\n",
        "model.add(Dense(len(class_names)))\n",
        "model.add(Activation('softmax'))"
      ],
      "metadata": {
        "id": "P7nbhrfztbGf"
      },
      "execution_count": 32,
      "outputs": []
    },
    {
      "cell_type": "code",
      "source": [
        "### Todo, choose an appropirate optimiser and loss function\n",
        "model.compile(optimizer= tf.keras.optimizers.Adadelta(),\n",
        "              loss= tf.keras.losses.categorical_crossentropy,\n",
        "              metrics=['accuracy'])"
      ],
      "metadata": {
        "id": "N3no7R8_t2fD"
      },
      "execution_count": 33,
      "outputs": []
    },
    {
      "cell_type": "code",
      "source": [
        "epochs = 30\n",
        "history = model.fit(\n",
        "  train_generator,\n",
        "  validation_data=valid_generator,\n",
        "  epochs=epochs\n",
        ")"
      ],
      "metadata": {
        "colab": {
          "base_uri": "https://localhost:8080/"
        },
        "id": "ia6snOIYt9oa",
        "outputId": "11921099-5aa2-4ef0-8656-52860fb492ed"
      },
      "execution_count": 34,
      "outputs": [
        {
          "output_type": "stream",
          "name": "stdout",
          "text": [
            "Epoch 1/30\n",
            "169/169 [==============================] - 135s 797ms/step - loss: 2.7117 - accuracy: 0.2667 - val_loss: 2.5163 - val_accuracy: 0.1012\n",
            "Epoch 2/30\n",
            "169/169 [==============================] - 124s 736ms/step - loss: 2.0460 - accuracy: 0.3663 - val_loss: 2.5256 - val_accuracy: 0.1488\n",
            "Epoch 3/30\n",
            "169/169 [==============================] - 124s 732ms/step - loss: 1.7740 - accuracy: 0.4109 - val_loss: 1.9723 - val_accuracy: 0.2894\n",
            "Epoch 4/30\n",
            "169/169 [==============================] - 122s 723ms/step - loss: 1.6313 - accuracy: 0.4458 - val_loss: 1.3849 - val_accuracy: 0.4918\n",
            "Epoch 5/30\n",
            "169/169 [==============================] - 120s 712ms/step - loss: 1.5211 - accuracy: 0.4677 - val_loss: 1.2616 - val_accuracy: 0.5372\n",
            "Epoch 6/30\n",
            "169/169 [==============================] - 122s 722ms/step - loss: 1.4501 - accuracy: 0.4858 - val_loss: 1.2136 - val_accuracy: 0.5618\n",
            "Epoch 7/30\n",
            "169/169 [==============================] - 123s 726ms/step - loss: 1.3410 - accuracy: 0.5131 - val_loss: 1.1738 - val_accuracy: 0.5618\n",
            "Epoch 8/30\n",
            "169/169 [==============================] - 124s 733ms/step - loss: 1.3089 - accuracy: 0.5236 - val_loss: 1.1582 - val_accuracy: 0.5677\n",
            "Epoch 9/30\n",
            "169/169 [==============================] - 125s 741ms/step - loss: 1.2493 - accuracy: 0.5422 - val_loss: 1.1330 - val_accuracy: 0.5863\n",
            "Epoch 10/30\n",
            "169/169 [==============================] - 121s 719ms/step - loss: 1.2108 - accuracy: 0.5570 - val_loss: 1.0976 - val_accuracy: 0.6071\n",
            "Epoch 11/30\n",
            "169/169 [==============================] - 125s 742ms/step - loss: 1.1721 - accuracy: 0.5752 - val_loss: 1.0825 - val_accuracy: 0.6019\n",
            "Epoch 12/30\n",
            "169/169 [==============================] - 124s 734ms/step - loss: 1.1808 - accuracy: 0.5687 - val_loss: 1.0773 - val_accuracy: 0.6146\n",
            "Epoch 13/30\n",
            "169/169 [==============================] - 125s 739ms/step - loss: 1.1152 - accuracy: 0.5972 - val_loss: 1.0319 - val_accuracy: 0.6310\n",
            "Epoch 14/30\n",
            "169/169 [==============================] - 124s 736ms/step - loss: 1.0795 - accuracy: 0.6128 - val_loss: 1.0314 - val_accuracy: 0.6369\n",
            "Epoch 15/30\n",
            "169/169 [==============================] - 123s 730ms/step - loss: 1.0749 - accuracy: 0.6145 - val_loss: 1.0041 - val_accuracy: 0.6391\n",
            "Epoch 16/30\n",
            "169/169 [==============================] - 123s 724ms/step - loss: 1.0373 - accuracy: 0.6222 - val_loss: 0.9812 - val_accuracy: 0.6503\n",
            "Epoch 17/30\n",
            "169/169 [==============================] - 122s 722ms/step - loss: 1.0165 - accuracy: 0.6291 - val_loss: 0.9797 - val_accuracy: 0.6466\n",
            "Epoch 18/30\n",
            "169/169 [==============================] - 122s 724ms/step - loss: 1.0137 - accuracy: 0.6272 - val_loss: 0.9572 - val_accuracy: 0.6585\n",
            "Epoch 19/30\n",
            "169/169 [==============================] - 123s 731ms/step - loss: 0.9792 - accuracy: 0.6436 - val_loss: 0.9287 - val_accuracy: 0.6667\n",
            "Epoch 20/30\n",
            "169/169 [==============================] - 122s 724ms/step - loss: 0.9612 - accuracy: 0.6465 - val_loss: 0.9413 - val_accuracy: 0.6644\n",
            "Epoch 21/30\n",
            "169/169 [==============================] - 122s 725ms/step - loss: 0.9358 - accuracy: 0.6580 - val_loss: 0.9043 - val_accuracy: 0.6890\n",
            "Epoch 22/30\n",
            "169/169 [==============================] - 124s 732ms/step - loss: 0.9361 - accuracy: 0.6515 - val_loss: 0.8868 - val_accuracy: 0.6823\n",
            "Epoch 23/30\n",
            "169/169 [==============================] - 122s 724ms/step - loss: 0.9079 - accuracy: 0.6680 - val_loss: 0.8824 - val_accuracy: 0.6942\n",
            "Epoch 24/30\n",
            "169/169 [==============================] - 122s 725ms/step - loss: 0.8855 - accuracy: 0.6721 - val_loss: 0.8917 - val_accuracy: 0.6868\n",
            "Epoch 25/30\n",
            "169/169 [==============================] - 123s 730ms/step - loss: 0.8777 - accuracy: 0.6747 - val_loss: 0.8807 - val_accuracy: 0.6801\n",
            "Epoch 26/30\n",
            "169/169 [==============================] - 122s 722ms/step - loss: 0.8726 - accuracy: 0.6860 - val_loss: 0.8503 - val_accuracy: 0.7135\n",
            "Epoch 27/30\n",
            "169/169 [==============================] - 124s 735ms/step - loss: 0.8377 - accuracy: 0.6986 - val_loss: 0.8488 - val_accuracy: 0.7098\n",
            "Epoch 28/30\n",
            "169/169 [==============================] - 125s 737ms/step - loss: 0.8429 - accuracy: 0.6884 - val_loss: 0.8429 - val_accuracy: 0.6972\n",
            "Epoch 29/30\n",
            "169/169 [==============================] - 124s 732ms/step - loss: 0.8207 - accuracy: 0.7073 - val_loss: 0.8400 - val_accuracy: 0.7068\n",
            "Epoch 30/30\n",
            "169/169 [==============================] - 124s 735ms/step - loss: 0.8280 - accuracy: 0.6992 - val_loss: 0.8097 - val_accuracy: 0.7150\n"
          ]
        }
      ]
    },
    {
      "cell_type": "code",
      "source": [
        "acc = history.history['accuracy']\n",
        "val_acc = history.history['val_accuracy']\n",
        "\n",
        "loss = history.history['loss']\n",
        "val_loss = history.history['val_loss']\n",
        "\n",
        "epochs_range = range(epochs)\n",
        "\n",
        "plt.figure(figsize=(8, 8))\n",
        "plt.subplot(1, 2, 1)\n",
        "plt.plot(epochs_range, acc, label='Training Accuracy')\n",
        "plt.plot(epochs_range, val_acc, label='Validation Accuracy')\n",
        "plt.legend(loc='lower right')\n",
        "plt.title('Training and Validation Accuracy')\n",
        "\n",
        "plt.subplot(1, 2, 2)\n",
        "plt.plot(epochs_range, loss, label='Training Loss')\n",
        "plt.plot(epochs_range, val_loss, label='Validation Loss')\n",
        "plt.legend(loc='upper right')\n",
        "plt.title('Training and Validation Loss')\n",
        "plt.show()"
      ],
      "metadata": {
        "colab": {
          "base_uri": "https://localhost:8080/",
          "height": 499
        },
        "id": "XBzAAj3GZLPM",
        "outputId": "d287ce31-6238-4b8c-aa4b-7eef7437733c"
      },
      "execution_count": 35,
      "outputs": [
        {
          "output_type": "display_data",
          "data": {
            "text/plain": [
              "<Figure size 576x576 with 2 Axes>"
            ],
            "image/png": "[encoded data removed]"
          },
          "metadata": {
            "needs_background": "light"
          }
        }
      ]
    },
    {
      "cell_type": "markdown",
      "source": [
        "From the run history and graph we can see that overfitting is resolved and imbalance is resolved using Argumetor."
      ],
      "metadata": {
        "id": "oDV3GeKJY8lX"
      }
    },
    {
      "cell_type": "code",
      "source": [],
      "metadata": {
        "id": "WdvnwRNhc75d"
      },
      "execution_count": null,
      "outputs": []
    }
  ]
}